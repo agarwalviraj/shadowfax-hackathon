{
 "cells": [
  {
   "cell_type": "code",
   "execution_count": 2,
   "source": [
    "def prediction_model(store_delivery,rider_store,packaging_time,rating):\n",
    "    x = [[store_delivery,rider_store,packaging_time,rating]]\n",
    "    voting_classifier = pickle.load(open('/Users/parthkatiyar/Desktop/shadowfax/backend_prototype/ml/svm_model.sav','rb'))\n",
    "    prediction = voting_classifier.predict(x)\n",
    "    return prediction"
   ],
   "outputs": [],
   "metadata": {}
  },
  {
   "cell_type": "code",
   "execution_count": 4,
   "source": [
    "import pickle"
   ],
   "outputs": [],
   "metadata": {}
  },
  {
   "cell_type": "code",
   "execution_count": 5,
   "source": [
    "help=prediction_model(3.912,6.5,3,2)"
   ],
   "outputs": [],
   "metadata": {}
  },
  {
   "cell_type": "code",
   "execution_count": 6,
   "source": [
    "print(help)"
   ],
   "outputs": [
    {
     "output_type": "stream",
     "name": "stdout",
     "text": [
      "[5]\n"
     ]
    }
   ],
   "metadata": {}
  },
  {
   "cell_type": "code",
   "execution_count": null,
   "source": [],
   "outputs": [],
   "metadata": {}
  }
 ],
 "metadata": {
  "orig_nbformat": 4,
  "language_info": {
   "name": "python",
   "version": "3.8.10",
   "mimetype": "text/x-python",
   "codemirror_mode": {
    "name": "ipython",
    "version": 3
   },
   "pygments_lexer": "ipython3",
   "nbconvert_exporter": "python",
   "file_extension": ".py"
  },
  "kernelspec": {
   "name": "python3",
   "display_name": "Python 3.8.10 64-bit ('DL': conda)"
  },
  "interpreter": {
   "hash": "cf7352f6e9a1ecfa2bd97d7370d67afa26cddfb5bdec51e2d9d94e8c654489bc"
  }
 },
 "nbformat": 4,
 "nbformat_minor": 2
}